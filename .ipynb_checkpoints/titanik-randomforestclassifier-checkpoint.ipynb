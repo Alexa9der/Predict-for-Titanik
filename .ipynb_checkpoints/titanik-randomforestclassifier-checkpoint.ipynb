{
 "cells": [
  {
   "cell_type": "markdown",
   "id": "fdc7cea3",
   "metadata": {
    "ExecuteTime": {
     "end_time": "2023-01-16T14:11:41.074156Z",
     "start_time": "2023-01-16T14:11:41.062164Z"
    },
    "papermill": {
     "duration": 0.013149,
     "end_time": "2023-03-19T16:12:55.937147",
     "exception": false,
     "start_time": "2023-03-19T16:12:55.923998",
     "status": "completed"
    },
    "tags": []
   },
   "source": [
    "# Predicting the Titanic with CatBoost"
   ]
  },
  {
   "cell_type": "code",
   "execution_count": 1,
   "id": "f321122a",
   "metadata": {
    "execution": {
     "iopub.execute_input": "2023-03-19T16:12:55.963969Z",
     "iopub.status.busy": "2023-03-19T16:12:55.963338Z",
     "iopub.status.idle": "2023-03-19T16:12:55.979166Z",
     "shell.execute_reply": "2023-03-19T16:12:55.978276Z"
    },
    "papermill": {
     "duration": 0.033397,
     "end_time": "2023-03-19T16:12:55.981939",
     "exception": false,
     "start_time": "2023-03-19T16:12:55.948542",
     "status": "completed"
    },
    "tags": []
   },
   "outputs": [
    {
     "name": "stdout",
     "output_type": "stream",
     "text": [
      "/kaggle/input/titanic/train.csv\n",
      "/kaggle/input/titanic/test.csv\n",
      "/kaggle/input/titanic/gender_submission.csv\n"
     ]
    }
   ],
   "source": [
    "# This Python 3 environment comes with many helpful analytics libraries installed\n",
    "# It is defined by the kaggle/python Docker image: https://github.com/kaggle/docker-python\n",
    "# For example, here's several helpful packages to load\n",
    "\n",
    "import numpy as np # linear algebra\n",
    "import pandas as pd # data processing, CSV file I/O (e.g. pd.read_csv)\n",
    "\n",
    "# Input data files are available in the read-only \"../input/\" directory\n",
    "# For example, running this (by clicking run or pressing Shift+Enter) will list all files under the input directory\n",
    "\n",
    "import os\n",
    "for dirname, _, filenames in os.walk('/kaggle/input'):\n",
    "    for filename in filenames:\n",
    "        print(os.path.join(dirname, filename))\n",
    "\n",
    "# You can write up to 20GB to the current directory (/kaggle/working/) that gets preserved as output when you create a version using \"Save & Run All\" \n",
    "# You can also write temporary files to /kaggle/temp/, but they won't be saved outside of the current session"
   ]
  },
  {
   "cell_type": "code",
   "execution_count": 2,
   "id": "d103214a",
   "metadata": {
    "execution": {
     "iopub.execute_input": "2023-03-19T16:12:56.007396Z",
     "iopub.status.busy": "2023-03-19T16:12:56.006662Z",
     "iopub.status.idle": "2023-03-19T16:12:57.155956Z",
     "shell.execute_reply": "2023-03-19T16:12:57.154735Z"
    },
    "papermill": {
     "duration": 1.165235,
     "end_time": "2023-03-19T16:12:57.158904",
     "exception": false,
     "start_time": "2023-03-19T16:12:55.993669",
     "status": "completed"
    },
    "tags": []
   },
   "outputs": [],
   "source": [
    "import matplotlib.pyplot as plt\n",
    "import seaborn as sns\n",
    "\n",
    "%matplotlib inline  "
   ]
  },
  {
   "cell_type": "code",
   "execution_count": 3,
   "id": "9f3d9845",
   "metadata": {
    "ExecuteTime": {
     "end_time": "2023-01-22T20:12:42.702561Z",
     "start_time": "2023-01-22T20:12:42.691570Z"
    },
    "execution": {
     "iopub.execute_input": "2023-03-19T16:12:57.187387Z",
     "iopub.status.busy": "2023-03-19T16:12:57.186977Z",
     "iopub.status.idle": "2023-03-19T16:12:57.633122Z",
     "shell.execute_reply": "2023-03-19T16:12:57.632133Z"
    },
    "papermill": {
     "duration": 0.46511,
     "end_time": "2023-03-19T16:12:57.635899",
     "exception": false,
     "start_time": "2023-03-19T16:12:57.170789",
     "status": "completed"
    },
    "tags": []
   },
   "outputs": [],
   "source": [
    "from sklearn.ensemble import RandomForestClassifier\n",
    "from sklearn.model_selection import RandomizedSearchCV\n",
    "from sklearn.metrics import confusion_matrix\n",
    "from sklearn.model_selection import train_test_split\n",
    "from sklearn.metrics import accuracy_score"
   ]
  },
  {
   "cell_type": "code",
   "execution_count": 4,
   "id": "be624619",
   "metadata": {
    "execution": {
     "iopub.execute_input": "2023-03-19T16:12:57.661154Z",
     "iopub.status.busy": "2023-03-19T16:12:57.660529Z",
     "iopub.status.idle": "2023-03-19T16:12:57.676939Z",
     "shell.execute_reply": "2023-03-19T16:12:57.675640Z"
    },
    "papermill": {
     "duration": 0.032356,
     "end_time": "2023-03-19T16:12:57.679879",
     "exception": false,
     "start_time": "2023-03-19T16:12:57.647523",
     "status": "completed"
    },
    "tags": []
   },
   "outputs": [],
   "source": [
    "def optimize_memory_usage(df, print_size=True):\n",
    "    # Function optimizes memory usage in dataframe.\n",
    "    # (RU) Функция оптимизации типов в dataframe.\n",
    "    \n",
    "    # Types for optimization.\n",
    "    # Типы, которые будем проверять на оптимизацию.\n",
    "    numerics = ['int16', 'int32', 'int64', 'float16', 'float32', 'float64']\n",
    "    # Memory usage size before optimize (Mb).\n",
    "    # (RU) Размер занимаемой памяти до оптимизации (в Мб).\n",
    "    before_size = df.memory_usage().sum() / 1024**2\n",
    "    \n",
    "    for column in tqdm(df.columns):\n",
    "        column_type = df[column].dtypes\n",
    "        if column_type in numerics:\n",
    "            column_min = df[column].min()\n",
    "            column_max = df[column].max()\n",
    "            if str(column_type).startswith('int'):\n",
    "                if column_min > np.iinfo(np.int8).min and column_max < np.iinfo(np.int8).max:\n",
    "                    df[column] = df[column].astype(np.int8)\n",
    "                elif column_min > np.iinfo(np.int16).min and column_max < np.iinfo(np.int16).max:\n",
    "                    df[column] = df[column].astype(np.int16)\n",
    "                elif column_min > np.iinfo(np.int32).min and column_max < np.iinfo(np.int32).max:\n",
    "                    df[column] = df[column].astype(np.int32)\n",
    "                elif column_min > np.iinfo(np.int64).min and column_max < np.iinfo(np.int64).max:\n",
    "                    df[column] = df[column].astype(np.int64) \n",
    "                    \n",
    "            elif str(column_type).startswith('float'):\n",
    "                if column_min > np.finfo(np.float32).min and column_max < np.finfo(np.float32).max:\n",
    "                    df[column] = df[column].astype(np.float32)\n",
    "                else:\n",
    "                    df[column] = df[column].astype(np.float64)\n",
    "                    \n",
    "        elif str(column_type).startswith('object'):\n",
    "            df[column] = df[column].astype('category')\n",
    "        else:\n",
    "            pass\n",
    "    # Memory usage size after optimize (Mb).\n",
    "    # (RU) Размер занимаемой памяти после оптимизации (в Мб).\n",
    "    after_size = df.memory_usage().sum() / 1024**2\n",
    "\n",
    "    if print_size: print(f'Memory usage size: before {before_size:5.4f} Mb - after {after_size:5.4f} Mb ({100 * (before_size - after_size) / before_size:.1f}%).')\n",
    "    return df"
   ]
  },
  {
   "cell_type": "markdown",
   "id": "56796866",
   "metadata": {
    "papermill": {
     "duration": 0.01113,
     "end_time": "2023-03-19T16:12:57.702467",
     "exception": false,
     "start_time": "2023-03-19T16:12:57.691337",
     "status": "completed"
    },
    "tags": []
   },
   "source": [
    "# Task:\n",
    "#### Your task is to predict whether the passenger survived the Titanic crash or not.\n",
    "#### For each in the test set, you must predict a value of 0 or 1 for the variable.\n",
    "\n",
    "# Zadanie :\n",
    "#### Twoim zadaniem jest przewidzieć, czy pasażer przeżył katastrofę Titanica, czy nie.\n",
    "#### Dla każdego w zbiorze testowym należy przewidzieć wartość 0 lub 1 dla zmiennej."
   ]
  },
  {
   "cell_type": "code",
   "execution_count": 5,
   "id": "19245f52",
   "metadata": {
    "ExecuteTime": {
     "end_time": "2023-01-22T20:22:56.965277Z",
     "start_time": "2023-01-22T20:22:56.941289Z"
    },
    "code_folding": [],
    "execution": {
     "iopub.execute_input": "2023-03-19T16:12:57.727607Z",
     "iopub.status.busy": "2023-03-19T16:12:57.726920Z",
     "iopub.status.idle": "2023-03-19T16:12:57.762794Z",
     "shell.execute_reply": "2023-03-19T16:12:57.761814Z"
    },
    "papermill": {
     "duration": 0.051363,
     "end_time": "2023-03-19T16:12:57.765634",
     "exception": false,
     "start_time": "2023-03-19T16:12:57.714271",
     "status": "completed"
    },
    "tags": []
   },
   "outputs": [],
   "source": [
    "train = pd.read_csv(\"/kaggle/input/titanic/train.csv\")\n",
    "test  = pd.read_csv(\"/kaggle/input/titanic/test.csv\")\n",
    "gender_submission  = pd.read_csv(\"/kaggle/input/titanic/gender_submission.csv\")"
   ]
  },
  {
   "cell_type": "markdown",
   "id": "8f41d5a4",
   "metadata": {
    "papermill": {
     "duration": 0.011215,
     "end_time": "2023-03-19T16:12:57.791824",
     "exception": false,
     "start_time": "2023-03-19T16:12:57.780609",
     "status": "completed"
    },
    "tags": []
   },
   "source": [
    "# EDA\n",
    "# Zapoznanie się z danymi."
   ]
  },
  {
   "cell_type": "code",
   "execution_count": 6,
   "id": "a303b577",
   "metadata": {
    "ExecuteTime": {
     "end_time": "2023-01-22T20:11:18.243327Z",
     "start_time": "2023-01-22T20:11:18.138979Z"
    },
    "code_folding": [],
    "execution": {
     "iopub.execute_input": "2023-03-19T16:12:57.816966Z",
     "iopub.status.busy": "2023-03-19T16:12:57.816235Z",
     "iopub.status.idle": "2023-03-19T16:12:57.841767Z",
     "shell.execute_reply": "2023-03-19T16:12:57.840802Z"
    },
    "papermill": {
     "duration": 0.040959,
     "end_time": "2023-03-19T16:12:57.844215",
     "exception": false,
     "start_time": "2023-03-19T16:12:57.803256",
     "status": "completed"
    },
    "tags": []
   },
   "outputs": [
    {
     "data": {
      "text/html": [
       "<div>\n",
       "<style scoped>\n",
       "    .dataframe tbody tr th:only-of-type {\n",
       "        vertical-align: middle;\n",
       "    }\n",
       "\n",
       "    .dataframe tbody tr th {\n",
       "        vertical-align: top;\n",
       "    }\n",
       "\n",
       "    .dataframe thead th {\n",
       "        text-align: right;\n",
       "    }\n",
       "</style>\n",
       "<table border=\"1\" class=\"dataframe\">\n",
       "  <thead>\n",
       "    <tr style=\"text-align: right;\">\n",
       "      <th></th>\n",
       "      <th>PassengerId</th>\n",
       "      <th>Survived</th>\n",
       "      <th>Pclass</th>\n",
       "      <th>Name</th>\n",
       "      <th>Sex</th>\n",
       "      <th>Age</th>\n",
       "      <th>SibSp</th>\n",
       "      <th>Parch</th>\n",
       "      <th>Ticket</th>\n",
       "      <th>Fare</th>\n",
       "      <th>Cabin</th>\n",
       "      <th>Embarked</th>\n",
       "    </tr>\n",
       "  </thead>\n",
       "  <tbody>\n",
       "    <tr>\n",
       "      <th>0</th>\n",
       "      <td>1</td>\n",
       "      <td>0</td>\n",
       "      <td>3</td>\n",
       "      <td>Braund, Mr. Owen Harris</td>\n",
       "      <td>male</td>\n",
       "      <td>22.0</td>\n",
       "      <td>1</td>\n",
       "      <td>0</td>\n",
       "      <td>A/5 21171</td>\n",
       "      <td>7.2500</td>\n",
       "      <td>NaN</td>\n",
       "      <td>S</td>\n",
       "    </tr>\n",
       "    <tr>\n",
       "      <th>1</th>\n",
       "      <td>2</td>\n",
       "      <td>1</td>\n",
       "      <td>1</td>\n",
       "      <td>Cumings, Mrs. John Bradley (Florence Briggs Th...</td>\n",
       "      <td>female</td>\n",
       "      <td>38.0</td>\n",
       "      <td>1</td>\n",
       "      <td>0</td>\n",
       "      <td>PC 17599</td>\n",
       "      <td>71.2833</td>\n",
       "      <td>C85</td>\n",
       "      <td>C</td>\n",
       "    </tr>\n",
       "    <tr>\n",
       "      <th>2</th>\n",
       "      <td>3</td>\n",
       "      <td>1</td>\n",
       "      <td>3</td>\n",
       "      <td>Heikkinen, Miss. Laina</td>\n",
       "      <td>female</td>\n",
       "      <td>26.0</td>\n",
       "      <td>0</td>\n",
       "      <td>0</td>\n",
       "      <td>STON/O2. 3101282</td>\n",
       "      <td>7.9250</td>\n",
       "      <td>NaN</td>\n",
       "      <td>S</td>\n",
       "    </tr>\n",
       "    <tr>\n",
       "      <th>3</th>\n",
       "      <td>4</td>\n",
       "      <td>1</td>\n",
       "      <td>1</td>\n",
       "      <td>Futrelle, Mrs. Jacques Heath (Lily May Peel)</td>\n",
       "      <td>female</td>\n",
       "      <td>35.0</td>\n",
       "      <td>1</td>\n",
       "      <td>0</td>\n",
       "      <td>113803</td>\n",
       "      <td>53.1000</td>\n",
       "      <td>C123</td>\n",
       "      <td>S</td>\n",
       "    </tr>\n",
       "    <tr>\n",
       "      <th>4</th>\n",
       "      <td>5</td>\n",
       "      <td>0</td>\n",
       "      <td>3</td>\n",
       "      <td>Allen, Mr. William Henry</td>\n",
       "      <td>male</td>\n",
       "      <td>35.0</td>\n",
       "      <td>0</td>\n",
       "      <td>0</td>\n",
       "      <td>373450</td>\n",
       "      <td>8.0500</td>\n",
       "      <td>NaN</td>\n",
       "      <td>S</td>\n",
       "    </tr>\n",
       "  </tbody>\n",
       "</table>\n",
       "</div>"
      ],
      "text/plain": [
       "   PassengerId  Survived  Pclass  \\\n",
       "0            1         0       3   \n",
       "1            2         1       1   \n",
       "2            3         1       3   \n",
       "3            4         1       1   \n",
       "4            5         0       3   \n",
       "\n",
       "                                                Name     Sex   Age  SibSp  \\\n",
       "0                            Braund, Mr. Owen Harris    male  22.0      1   \n",
       "1  Cumings, Mrs. John Bradley (Florence Briggs Th...  female  38.0      1   \n",
       "2                             Heikkinen, Miss. Laina  female  26.0      0   \n",
       "3       Futrelle, Mrs. Jacques Heath (Lily May Peel)  female  35.0      1   \n",
       "4                           Allen, Mr. William Henry    male  35.0      0   \n",
       "\n",
       "   Parch            Ticket     Fare Cabin Embarked  \n",
       "0      0         A/5 21171   7.2500   NaN        S  \n",
       "1      0          PC 17599  71.2833   C85        C  \n",
       "2      0  STON/O2. 3101282   7.9250   NaN        S  \n",
       "3      0            113803  53.1000  C123        S  \n",
       "4      0            373450   8.0500   NaN        S  "
      ]
     },
     "execution_count": 6,
     "metadata": {},
     "output_type": "execute_result"
    }
   ],
   "source": [
    "train.head(5)"
   ]
  },
  {
   "cell_type": "code",
   "execution_count": 7,
   "id": "201cb5f0",
   "metadata": {
    "execution": {
     "iopub.execute_input": "2023-03-19T16:12:57.869743Z",
     "iopub.status.busy": "2023-03-19T16:12:57.869320Z",
     "iopub.status.idle": "2023-03-19T16:12:57.887961Z",
     "shell.execute_reply": "2023-03-19T16:12:57.886651Z"
    },
    "papermill": {
     "duration": 0.034195,
     "end_time": "2023-03-19T16:12:57.890580",
     "exception": false,
     "start_time": "2023-03-19T16:12:57.856385",
     "status": "completed"
    },
    "tags": []
   },
   "outputs": [
    {
     "data": {
      "text/plain": [
       "(PassengerId    0.000000\n",
       " Survived       0.000000\n",
       " Pclass         0.000000\n",
       " Name           0.000000\n",
       " Sex            0.000000\n",
       " Age            0.198653\n",
       " SibSp          0.000000\n",
       " Parch          0.000000\n",
       " Ticket         0.000000\n",
       " Fare           0.000000\n",
       " Cabin          0.771044\n",
       " Embarked       0.002245\n",
       " dtype: float64,\n",
       " PassengerId    0.000000\n",
       " Survived       0.000000\n",
       " Pclass         0.000000\n",
       " Name           0.000000\n",
       " Sex            0.000000\n",
       " SibSp          0.000000\n",
       " Parch          0.000000\n",
       " Ticket         0.000000\n",
       " Fare           0.000000\n",
       " Embarked       0.002245\n",
       " dtype: float64)"
      ]
     },
     "execution_count": 7,
     "metadata": {},
     "output_type": "execute_result"
    }
   ],
   "source": [
    "percent_nan = train.isna().sum()/ train.isna().count()\n",
    "percent_nan, percent_nan[percent_nan < 0.1]"
   ]
  },
  {
   "cell_type": "code",
   "execution_count": 8,
   "id": "34ed2854",
   "metadata": {
    "ExecuteTime": {
     "end_time": "2023-01-22T20:11:18.320018Z",
     "start_time": "2023-01-22T20:11:18.250323Z"
    },
    "code_folding": [],
    "execution": {
     "iopub.execute_input": "2023-03-19T16:12:57.916390Z",
     "iopub.status.busy": "2023-03-19T16:12:57.915972Z",
     "iopub.status.idle": "2023-03-19T16:12:57.928682Z",
     "shell.execute_reply": "2023-03-19T16:12:57.927696Z"
    },
    "papermill": {
     "duration": 0.028321,
     "end_time": "2023-03-19T16:12:57.931142",
     "exception": false,
     "start_time": "2023-03-19T16:12:57.902821",
     "status": "completed"
    },
    "tags": []
   },
   "outputs": [],
   "source": [
    "died = train[train.Survived == 0]\n",
    "survived = train[train.Survived == 1]"
   ]
  },
  {
   "cell_type": "code",
   "execution_count": 9,
   "id": "f908456b",
   "metadata": {
    "execution": {
     "iopub.execute_input": "2023-03-19T16:12:57.957079Z",
     "iopub.status.busy": "2023-03-19T16:12:57.955938Z",
     "iopub.status.idle": "2023-03-19T16:12:58.870370Z",
     "shell.execute_reply": "2023-03-19T16:12:58.869215Z"
    },
    "papermill": {
     "duration": 0.929854,
     "end_time": "2023-03-19T16:12:58.872852",
     "exception": false,
     "start_time": "2023-03-19T16:12:57.942998",
     "status": "completed"
    },
    "tags": []
   },
   "outputs": [
    {
     "data": {
      "image/png": "[encoded data removed]",
      "text/plain": [
       "<Figure size 432x288 with 9 Axes>"
      ]
     },
     "metadata": {
      "needs_background": "light"
     },
     "output_type": "display_data"
    }
   ],
   "source": [
    "died.hist();"
   ]
  },
  {
   "cell_type": "code",
   "execution_count": 10,
   "id": "6ffa7ac4",
   "metadata": {
    "ExecuteTime": {
     "end_time": "2023-01-22T20:11:21.976581Z",
     "start_time": "2023-01-22T20:11:20.533464Z"
    },
    "execution": {
     "iopub.execute_input": "2023-03-19T16:12:58.899225Z",
     "iopub.status.busy": "2023-03-19T16:12:58.898750Z",
     "iopub.status.idle": "2023-03-19T16:12:59.896224Z",
     "shell.execute_reply": "2023-03-19T16:12:59.895105Z"
    },
    "papermill": {
     "duration": 1.013479,
     "end_time": "2023-03-19T16:12:59.898655",
     "exception": false,
     "start_time": "2023-03-19T16:12:58.885176",
     "status": "completed"
    },
    "tags": []
   },
   "outputs": [
    {
     "data": {
      "image/png": "[encoded data removed]",
      "text/plain": [
       "<Figure size 432x288 with 9 Axes>"
      ]
     },
     "metadata": {
      "needs_background": "light"
     },
     "output_type": "display_data"
    }
   ],
   "source": [
    "survived.hist();"
   ]
  },
  {
   "cell_type": "code",
   "execution_count": 11,
   "id": "637f1647",
   "metadata": {
    "execution": {
     "iopub.execute_input": "2023-03-19T16:12:59.926134Z",
     "iopub.status.busy": "2023-03-19T16:12:59.925030Z",
     "iopub.status.idle": "2023-03-19T16:12:59.939314Z",
     "shell.execute_reply": "2023-03-19T16:12:59.938186Z"
    },
    "papermill": {
     "duration": 0.030545,
     "end_time": "2023-03-19T16:12:59.941867",
     "exception": false,
     "start_time": "2023-03-19T16:12:59.911322",
     "status": "completed"
    },
    "tags": []
   },
   "outputs": [
    {
     "data": {
      "text/plain": [
       "Age      0.227687\n",
       "Cabin    0.876138\n",
       "dtype: float64"
      ]
     },
     "execution_count": 11,
     "metadata": {},
     "output_type": "execute_result"
    }
   ],
   "source": [
    "d_nan = died.isna().sum()/ died.isna().count()\n",
    "d_nan[d_nan > 0]"
   ]
  },
  {
   "cell_type": "code",
   "execution_count": 12,
   "id": "8559dcbe",
   "metadata": {
    "execution": {
     "iopub.execute_input": "2023-03-19T16:12:59.969904Z",
     "iopub.status.busy": "2023-03-19T16:12:59.969054Z",
     "iopub.status.idle": "2023-03-19T16:12:59.983135Z",
     "shell.execute_reply": "2023-03-19T16:12:59.981949Z"
    },
    "papermill": {
     "duration": 0.030445,
     "end_time": "2023-03-19T16:12:59.985220",
     "exception": false,
     "start_time": "2023-03-19T16:12:59.954775",
     "status": "completed"
    },
    "tags": []
   },
   "outputs": [
    {
     "data": {
      "text/plain": [
       "Age         0.152047\n",
       "Cabin       0.602339\n",
       "Embarked    0.005848\n",
       "dtype: float64"
      ]
     },
     "execution_count": 12,
     "metadata": {},
     "output_type": "execute_result"
    }
   ],
   "source": [
    "s_nan = survived.isna().sum()/ survived.isna().count()\n",
    "s_nan[s_nan > 0]"
   ]
  },
  {
   "cell_type": "markdown",
   "id": "08bfebd5",
   "metadata": {
    "papermill": {
     "duration": 0.012181,
     "end_time": "2023-03-19T16:13:00.009868",
     "exception": false,
     "start_time": "2023-03-19T16:12:59.997687",
     "status": "completed"
    },
    "tags": []
   },
   "source": [
    "# Data processing \n",
    "# Przetwarzanie danych "
   ]
  },
  {
   "cell_type": "code",
   "execution_count": 13,
   "id": "3acabd4c",
   "metadata": {
    "ExecuteTime": {
     "end_time": "2023-01-22T20:22:50.670419Z",
     "start_time": "2023-01-22T20:22:50.651433Z"
    },
    "code_folding": [
     3
    ],
    "execution": {
     "iopub.execute_input": "2023-03-19T16:13:00.037161Z",
     "iopub.status.busy": "2023-03-19T16:13:00.036140Z",
     "iopub.status.idle": "2023-03-19T16:13:00.050980Z",
     "shell.execute_reply": "2023-03-19T16:13:00.049679Z"
    },
    "papermill": {
     "duration": 0.031445,
     "end_time": "2023-03-19T16:13:00.053836",
     "exception": false,
     "start_time": "2023-03-19T16:13:00.022391",
     "status": "completed"
    },
    "tags": []
   },
   "outputs": [],
   "source": [
    "#  transforming qualitative data into quantitative data \n",
    "# replace the NAN type\n",
    "\n",
    "def  data_processing(data):\n",
    "    df = data.copy()\n",
    "    \n",
    "    #  przekształcanie danych jakościowych w ilościowe \n",
    "    #  transforming qualitative data into quantitative data \n",
    "    sex_emb = {\"Sex\":      {\"female\": 0, \"male\": 1},\n",
    "              \"Embarked\": { \"S\":0, \"C\":1, \"Q\":3 } }\n",
    "    df.replace(sex_emb, inplace=True )\n",
    "    \n",
    "     # uzupełnienie typ NAT\n",
    "     # completion of the NAT type\n",
    "    values = { \"Age\":       df.Age.mean(), \n",
    "               \"Embarked\":  df.Embarked.mean()\n",
    "             }\n",
    "    \n",
    "    df = df.fillna(value=values)\n",
    "    \n",
    "    return df\n",
    "train = data_processing(train)"
   ]
  },
  {
   "cell_type": "code",
   "execution_count": 14,
   "id": "de66c4c6",
   "metadata": {
    "ExecuteTime": {
     "end_time": "2023-01-22T20:11:22.254176Z",
     "start_time": "2023-01-22T20:11:22.134629Z"
    },
    "code_folding": [
     1,
     3
    ],
    "execution": {
     "iopub.execute_input": "2023-03-19T16:13:00.080788Z",
     "iopub.status.busy": "2023-03-19T16:13:00.080405Z",
     "iopub.status.idle": "2023-03-19T16:13:00.095858Z",
     "shell.execute_reply": "2023-03-19T16:13:00.094792Z"
    },
    "papermill": {
     "duration": 0.031725,
     "end_time": "2023-03-19T16:13:00.098220",
     "exception": false,
     "start_time": "2023-03-19T16:13:00.066495",
     "status": "completed"
    },
    "tags": []
   },
   "outputs": [
    {
     "data": {
      "text/plain": [
       "{'Survived_PassengerId': {-0.005006660767066504},\n",
       " 'Survived_Survived': {1.0},\n",
       " 'Survived_Pclass': {-0.3384810359610148},\n",
       " 'Survived_Sex': {-0.5433513806577555},\n",
       " 'Survived_Age': {-0.06980851528714314},\n",
       " 'Survived_SibSp': {-0.03532249888573564},\n",
       " 'Survived_Parch': {0.08162940708348371},\n",
       " 'Survived_Fare': {0.2573065223849625},\n",
       " 'Survived_Embarked': {0.08019893336023073}}"
      ]
     },
     "execution_count": 14,
     "metadata": {},
     "output_type": "execute_result"
    }
   ],
   "source": [
    "# correlation data\n",
    "def correlation(data=pd.DataFrame, nam_columt=str) -> dict :\n",
    "    corr = dict()       \n",
    "    for i in data.select_dtypes('number').columns:\n",
    "        corr[nam_columt+\"_\"+i] = { data[nam_columt].corr(data[i]) }\n",
    "    return corr\n",
    "\n",
    "correlation(train, \"Survived\")"
   ]
  },
  {
   "cell_type": "code",
   "execution_count": 15,
   "id": "a56da0f1",
   "metadata": {
    "execution": {
     "iopub.execute_input": "2023-03-19T16:13:00.125266Z",
     "iopub.status.busy": "2023-03-19T16:13:00.124826Z",
     "iopub.status.idle": "2023-03-19T16:13:00.214447Z",
     "shell.execute_reply": "2023-03-19T16:13:00.213277Z"
    },
    "papermill": {
     "duration": 0.106718,
     "end_time": "2023-03-19T16:13:00.217578",
     "exception": false,
     "start_time": "2023-03-19T16:13:00.110860",
     "status": "completed"
    },
    "tags": []
   },
   "outputs": [
    {
     "data": {
      "text/html": [
       "<style type=\"text/css\">\n",
       "#T_6d66a_row0_col0, #T_6d66a_row1_col1, #T_6d66a_row2_col2, #T_6d66a_row3_col3, #T_6d66a_row4_col4, #T_6d66a_row5_col5, #T_6d66a_row6_col6, #T_6d66a_row7_col7, #T_6d66a_row8_col8 {\n",
       "  background-color: #b40426;\n",
       "  color: #f1f1f1;\n",
       "}\n",
       "#T_6d66a_row0_col1 {\n",
       "  background-color: #afcafc;\n",
       "  color: #000000;\n",
       "}\n",
       "#T_6d66a_row0_col2, #T_6d66a_row5_col1 {\n",
       "  background-color: #a9c6fd;\n",
       "  color: #000000;\n",
       "}\n",
       "#T_6d66a_row0_col3 {\n",
       "  background-color: #bad0f8;\n",
       "  color: #000000;\n",
       "}\n",
       "#T_6d66a_row0_col4 {\n",
       "  background-color: #96b7ff;\n",
       "  color: #000000;\n",
       "}\n",
       "#T_6d66a_row0_col5, #T_6d66a_row4_col2 {\n",
       "  background-color: #6788ee;\n",
       "  color: #f1f1f1;\n",
       "}\n",
       "#T_6d66a_row0_col6, #T_6d66a_row1_col4 {\n",
       "  background-color: #7a9df8;\n",
       "  color: #f1f1f1;\n",
       "}\n",
       "#T_6d66a_row0_col7, #T_6d66a_row8_col7 {\n",
       "  background-color: #b3cdfb;\n",
       "  color: #000000;\n",
       "}\n",
       "#T_6d66a_row0_col8 {\n",
       "  background-color: #4f69d9;\n",
       "  color: #f1f1f1;\n",
       "}\n",
       "#T_6d66a_row1_col0 {\n",
       "  background-color: #4961d2;\n",
       "  color: #f1f1f1;\n",
       "}\n",
       "#T_6d66a_row1_col2 {\n",
       "  background-color: #6485ec;\n",
       "  color: #f1f1f1;\n",
       "}\n",
       "#T_6d66a_row1_col3, #T_6d66a_row2_col4, #T_6d66a_row2_col7, #T_6d66a_row3_col1, #T_6d66a_row3_col6, #T_6d66a_row3_col8, #T_6d66a_row4_col5, #T_6d66a_row5_col0, #T_6d66a_row7_col2 {\n",
       "  background-color: #3b4cc0;\n",
       "  color: #f1f1f1;\n",
       "}\n",
       "#T_6d66a_row1_col5 {\n",
       "  background-color: #6c8ff1;\n",
       "  color: #f1f1f1;\n",
       "}\n",
       "#T_6d66a_row1_col6 {\n",
       "  background-color: #92b4fe;\n",
       "  color: #000000;\n",
       "}\n",
       "#T_6d66a_row1_col7 {\n",
       "  background-color: #e2dad5;\n",
       "  color: #000000;\n",
       "}\n",
       "#T_6d66a_row1_col8 {\n",
       "  background-color: #7093f3;\n",
       "  color: #f1f1f1;\n",
       "}\n",
       "#T_6d66a_row2_col0, #T_6d66a_row8_col0 {\n",
       "  background-color: #4055c8;\n",
       "  color: #f1f1f1;\n",
       "}\n",
       "#T_6d66a_row2_col1, #T_6d66a_row8_col6 {\n",
       "  background-color: #6384eb;\n",
       "  color: #f1f1f1;\n",
       "}\n",
       "#T_6d66a_row2_col3, #T_6d66a_row3_col2 {\n",
       "  background-color: #ccd9ed;\n",
       "  color: #000000;\n",
       "}\n",
       "#T_6d66a_row2_col5 {\n",
       "  background-color: #8fb1fe;\n",
       "  color: #000000;\n",
       "}\n",
       "#T_6d66a_row2_col6 {\n",
       "  background-color: #80a3fa;\n",
       "  color: #f1f1f1;\n",
       "}\n",
       "#T_6d66a_row2_col8 {\n",
       "  background-color: #779af7;\n",
       "  color: #f1f1f1;\n",
       "}\n",
       "#T_6d66a_row3_col0, #T_6d66a_row3_col5 {\n",
       "  background-color: #5875e1;\n",
       "  color: #f1f1f1;\n",
       "}\n",
       "#T_6d66a_row3_col4 {\n",
       "  background-color: #a2c1ff;\n",
       "  color: #000000;\n",
       "}\n",
       "#T_6d66a_row3_col7 {\n",
       "  background-color: #88abfd;\n",
       "  color: #000000;\n",
       "}\n",
       "#T_6d66a_row4_col0 {\n",
       "  background-color: #5470de;\n",
       "  color: #f1f1f1;\n",
       "}\n",
       "#T_6d66a_row4_col1 {\n",
       "  background-color: #a1c0ff;\n",
       "  color: #000000;\n",
       "}\n",
       "#T_6d66a_row4_col3, #T_6d66a_row5_col2 {\n",
       "  background-color: #c3d5f4;\n",
       "  color: #000000;\n",
       "}\n",
       "#T_6d66a_row4_col6, #T_6d66a_row5_col8, #T_6d66a_row6_col0 {\n",
       "  background-color: #4a63d3;\n",
       "  color: #f1f1f1;\n",
       "}\n",
       "#T_6d66a_row4_col7 {\n",
       "  background-color: #c4d5f3;\n",
       "  color: #000000;\n",
       "}\n",
       "#T_6d66a_row4_col8 {\n",
       "  background-color: #5a78e4;\n",
       "  color: #f1f1f1;\n",
       "}\n",
       "#T_6d66a_row5_col3, #T_6d66a_row8_col3 {\n",
       "  background-color: #97b8ff;\n",
       "  color: #000000;\n",
       "}\n",
       "#T_6d66a_row5_col4 {\n",
       "  background-color: #506bda;\n",
       "  color: #f1f1f1;\n",
       "}\n",
       "#T_6d66a_row5_col6 {\n",
       "  background-color: #e4d9d2;\n",
       "  color: #000000;\n",
       "}\n",
       "#T_6d66a_row5_col7 {\n",
       "  background-color: #d2dbe8;\n",
       "  color: #000000;\n",
       "}\n",
       "#T_6d66a_row6_col1, #T_6d66a_row8_col1 {\n",
       "  background-color: #c1d4f4;\n",
       "  color: #000000;\n",
       "}\n",
       "#T_6d66a_row6_col2 {\n",
       "  background-color: #b5cdfa;\n",
       "  color: #000000;\n",
       "}\n",
       "#T_6d66a_row6_col3 {\n",
       "  background-color: #799cf8;\n",
       "  color: #f1f1f1;\n",
       "}\n",
       "#T_6d66a_row6_col4 {\n",
       "  background-color: #5e7de7;\n",
       "  color: #f1f1f1;\n",
       "}\n",
       "#T_6d66a_row6_col5 {\n",
       "  background-color: #e3d9d3;\n",
       "  color: #000000;\n",
       "}\n",
       "#T_6d66a_row6_col7 {\n",
       "  background-color: #dbdcde;\n",
       "  color: #000000;\n",
       "}\n",
       "#T_6d66a_row6_col8 {\n",
       "  background-color: #4257c9;\n",
       "  color: #f1f1f1;\n",
       "}\n",
       "#T_6d66a_row7_col0 {\n",
       "  background-color: #4e68d8;\n",
       "  color: #f1f1f1;\n",
       "}\n",
       "#T_6d66a_row7_col1 {\n",
       "  background-color: #e1dad6;\n",
       "  color: #000000;\n",
       "}\n",
       "#T_6d66a_row7_col3 {\n",
       "  background-color: #86a9fc;\n",
       "  color: #f1f1f1;\n",
       "}\n",
       "#T_6d66a_row7_col4, #T_6d66a_row7_col5 {\n",
       "  background-color: #a5c3fe;\n",
       "  color: #000000;\n",
       "}\n",
       "#T_6d66a_row7_col6 {\n",
       "  background-color: #b6cefa;\n",
       "  color: #000000;\n",
       "}\n",
       "#T_6d66a_row7_col8 {\n",
       "  background-color: #5b7ae5;\n",
       "  color: #f1f1f1;\n",
       "}\n",
       "#T_6d66a_row8_col2 {\n",
       "  background-color: #c6d6f1;\n",
       "  color: #000000;\n",
       "}\n",
       "#T_6d66a_row8_col4 {\n",
       "  background-color: #8db0fe;\n",
       "  color: #000000;\n",
       "}\n",
       "#T_6d66a_row8_col5 {\n",
       "  background-color: #688aef;\n",
       "  color: #f1f1f1;\n",
       "}\n",
       "</style>\n",
       "<table id=\"T_6d66a_\">\n",
       "  <thead>\n",
       "    <tr>\n",
       "      <th class=\"blank level0\" >&nbsp;</th>\n",
       "      <th class=\"col_heading level0 col0\" >PassengerId</th>\n",
       "      <th class=\"col_heading level0 col1\" >Survived</th>\n",
       "      <th class=\"col_heading level0 col2\" >Pclass</th>\n",
       "      <th class=\"col_heading level0 col3\" >Sex</th>\n",
       "      <th class=\"col_heading level0 col4\" >Age</th>\n",
       "      <th class=\"col_heading level0 col5\" >SibSp</th>\n",
       "      <th class=\"col_heading level0 col6\" >Parch</th>\n",
       "      <th class=\"col_heading level0 col7\" >Fare</th>\n",
       "      <th class=\"col_heading level0 col8\" >Embarked</th>\n",
       "    </tr>\n",
       "  </thead>\n",
       "  <tbody>\n",
       "    <tr>\n",
       "      <th id=\"T_6d66a_level0_row0\" class=\"row_heading level0 row0\" >PassengerId</th>\n",
       "      <td id=\"T_6d66a_row0_col0\" class=\"data row0 col0\" >1.000000</td>\n",
       "      <td id=\"T_6d66a_row0_col1\" class=\"data row0 col1\" >-0.005007</td>\n",
       "      <td id=\"T_6d66a_row0_col2\" class=\"data row0 col2\" >-0.035144</td>\n",
       "      <td id=\"T_6d66a_row0_col3\" class=\"data row0 col3\" >0.042939</td>\n",
       "      <td id=\"T_6d66a_row0_col4\" class=\"data row0 col4\" >0.033207</td>\n",
       "      <td id=\"T_6d66a_row0_col5\" class=\"data row0 col5\" >-0.057527</td>\n",
       "      <td id=\"T_6d66a_row0_col6\" class=\"data row0 col6\" >-0.001652</td>\n",
       "      <td id=\"T_6d66a_row0_col7\" class=\"data row0 col7\" >0.012658</td>\n",
       "      <td id=\"T_6d66a_row0_col8\" class=\"data row0 col8\" >-0.032919</td>\n",
       "    </tr>\n",
       "    <tr>\n",
       "      <th id=\"T_6d66a_level0_row1\" class=\"row_heading level0 row1\" >Survived</th>\n",
       "      <td id=\"T_6d66a_row1_col0\" class=\"data row1 col0\" >-0.005007</td>\n",
       "      <td id=\"T_6d66a_row1_col1\" class=\"data row1 col1\" >1.000000</td>\n",
       "      <td id=\"T_6d66a_row1_col2\" class=\"data row1 col2\" >-0.338481</td>\n",
       "      <td id=\"T_6d66a_row1_col3\" class=\"data row1 col3\" >-0.543351</td>\n",
       "      <td id=\"T_6d66a_row1_col4\" class=\"data row1 col4\" >-0.069809</td>\n",
       "      <td id=\"T_6d66a_row1_col5\" class=\"data row1 col5\" >-0.035322</td>\n",
       "      <td id=\"T_6d66a_row1_col6\" class=\"data row1 col6\" >0.081629</td>\n",
       "      <td id=\"T_6d66a_row1_col7\" class=\"data row1 col7\" >0.257307</td>\n",
       "      <td id=\"T_6d66a_row1_col8\" class=\"data row1 col8\" >0.080199</td>\n",
       "    </tr>\n",
       "    <tr>\n",
       "      <th id=\"T_6d66a_level0_row2\" class=\"row_heading level0 row2\" >Pclass</th>\n",
       "      <td id=\"T_6d66a_row2_col0\" class=\"data row2 col0\" >-0.035144</td>\n",
       "      <td id=\"T_6d66a_row2_col1\" class=\"data row2 col1\" >-0.338481</td>\n",
       "      <td id=\"T_6d66a_row2_col2\" class=\"data row2 col2\" >1.000000</td>\n",
       "      <td id=\"T_6d66a_row2_col3\" class=\"data row2 col3\" >0.131900</td>\n",
       "      <td id=\"T_6d66a_row2_col4\" class=\"data row2 col4\" >-0.331339</td>\n",
       "      <td id=\"T_6d66a_row2_col5\" class=\"data row2 col5\" >0.083081</td>\n",
       "      <td id=\"T_6d66a_row2_col6\" class=\"data row2 col6\" >0.018443</td>\n",
       "      <td id=\"T_6d66a_row2_col7\" class=\"data row2 col7\" >-0.549500</td>\n",
       "      <td id=\"T_6d66a_row2_col8\" class=\"data row2 col8\" >0.102370</td>\n",
       "    </tr>\n",
       "    <tr>\n",
       "      <th id=\"T_6d66a_level0_row3\" class=\"row_heading level0 row3\" >Sex</th>\n",
       "      <td id=\"T_6d66a_row3_col0\" class=\"data row3 col0\" >0.042939</td>\n",
       "      <td id=\"T_6d66a_row3_col1\" class=\"data row3 col1\" >-0.543351</td>\n",
       "      <td id=\"T_6d66a_row3_col2\" class=\"data row3 col2\" >0.131900</td>\n",
       "      <td id=\"T_6d66a_row3_col3\" class=\"data row3 col3\" >1.000000</td>\n",
       "      <td id=\"T_6d66a_row3_col4\" class=\"data row3 col4\" >0.084153</td>\n",
       "      <td id=\"T_6d66a_row3_col5\" class=\"data row3 col5\" >-0.114631</td>\n",
       "      <td id=\"T_6d66a_row3_col6\" class=\"data row3 col6\" >-0.245489</td>\n",
       "      <td id=\"T_6d66a_row3_col7\" class=\"data row3 col7\" >-0.182333</td>\n",
       "      <td id=\"T_6d66a_row3_col8\" class=\"data row3 col8\" >-0.110019</td>\n",
       "    </tr>\n",
       "    <tr>\n",
       "      <th id=\"T_6d66a_level0_row4\" class=\"row_heading level0 row4\" >Age</th>\n",
       "      <td id=\"T_6d66a_row4_col0\" class=\"data row4 col0\" >0.033207</td>\n",
       "      <td id=\"T_6d66a_row4_col1\" class=\"data row4 col1\" >-0.069809</td>\n",
       "      <td id=\"T_6d66a_row4_col2\" class=\"data row4 col2\" >-0.331339</td>\n",
       "      <td id=\"T_6d66a_row4_col3\" class=\"data row4 col3\" >0.084153</td>\n",
       "      <td id=\"T_6d66a_row4_col4\" class=\"data row4 col4\" >1.000000</td>\n",
       "      <td id=\"T_6d66a_row4_col5\" class=\"data row4 col5\" >-0.232625</td>\n",
       "      <td id=\"T_6d66a_row4_col6\" class=\"data row4 col6\" >-0.179191</td>\n",
       "      <td id=\"T_6d66a_row4_col7\" class=\"data row4 col7\" >0.091566</td>\n",
       "      <td id=\"T_6d66a_row4_col8\" class=\"data row4 col8\" >0.002767</td>\n",
       "    </tr>\n",
       "    <tr>\n",
       "      <th id=\"T_6d66a_level0_row5\" class=\"row_heading level0 row5\" >SibSp</th>\n",
       "      <td id=\"T_6d66a_row5_col0\" class=\"data row5 col0\" >-0.057527</td>\n",
       "      <td id=\"T_6d66a_row5_col1\" class=\"data row5 col1\" >-0.035322</td>\n",
       "      <td id=\"T_6d66a_row5_col2\" class=\"data row5 col2\" >0.083081</td>\n",
       "      <td id=\"T_6d66a_row5_col3\" class=\"data row5 col3\" >-0.114631</td>\n",
       "      <td id=\"T_6d66a_row5_col4\" class=\"data row5 col4\" >-0.232625</td>\n",
       "      <td id=\"T_6d66a_row5_col5\" class=\"data row5 col5\" >1.000000</td>\n",
       "      <td id=\"T_6d66a_row5_col6\" class=\"data row5 col6\" >0.414838</td>\n",
       "      <td id=\"T_6d66a_row5_col7\" class=\"data row5 col7\" >0.159651</td>\n",
       "      <td id=\"T_6d66a_row5_col8\" class=\"data row5 col8\" >-0.052555</td>\n",
       "    </tr>\n",
       "    <tr>\n",
       "      <th id=\"T_6d66a_level0_row6\" class=\"row_heading level0 row6\" >Parch</th>\n",
       "      <td id=\"T_6d66a_row6_col0\" class=\"data row6 col0\" >-0.001652</td>\n",
       "      <td id=\"T_6d66a_row6_col1\" class=\"data row6 col1\" >0.081629</td>\n",
       "      <td id=\"T_6d66a_row6_col2\" class=\"data row6 col2\" >0.018443</td>\n",
       "      <td id=\"T_6d66a_row6_col3\" class=\"data row6 col3\" >-0.245489</td>\n",
       "      <td id=\"T_6d66a_row6_col4\" class=\"data row6 col4\" >-0.179191</td>\n",
       "      <td id=\"T_6d66a_row6_col5\" class=\"data row6 col5\" >0.414838</td>\n",
       "      <td id=\"T_6d66a_row6_col6\" class=\"data row6 col6\" >1.000000</td>\n",
       "      <td id=\"T_6d66a_row6_col7\" class=\"data row6 col7\" >0.216225</td>\n",
       "      <td id=\"T_6d66a_row6_col8\" class=\"data row6 col8\" >-0.083762</td>\n",
       "    </tr>\n",
       "    <tr>\n",
       "      <th id=\"T_6d66a_level0_row7\" class=\"row_heading level0 row7\" >Fare</th>\n",
       "      <td id=\"T_6d66a_row7_col0\" class=\"data row7 col0\" >0.012658</td>\n",
       "      <td id=\"T_6d66a_row7_col1\" class=\"data row7 col1\" >0.257307</td>\n",
       "      <td id=\"T_6d66a_row7_col2\" class=\"data row7 col2\" >-0.549500</td>\n",
       "      <td id=\"T_6d66a_row7_col3\" class=\"data row7 col3\" >-0.182333</td>\n",
       "      <td id=\"T_6d66a_row7_col4\" class=\"data row7 col4\" >0.091566</td>\n",
       "      <td id=\"T_6d66a_row7_col5\" class=\"data row7 col5\" >0.159651</td>\n",
       "      <td id=\"T_6d66a_row7_col6\" class=\"data row7 col6\" >0.216225</td>\n",
       "      <td id=\"T_6d66a_row7_col7\" class=\"data row7 col7\" >1.000000</td>\n",
       "      <td id=\"T_6d66a_row7_col8\" class=\"data row7 col8\" >0.008588</td>\n",
       "    </tr>\n",
       "    <tr>\n",
       "      <th id=\"T_6d66a_level0_row8\" class=\"row_heading level0 row8\" >Embarked</th>\n",
       "      <td id=\"T_6d66a_row8_col0\" class=\"data row8 col0\" >-0.032919</td>\n",
       "      <td id=\"T_6d66a_row8_col1\" class=\"data row8 col1\" >0.080199</td>\n",
       "      <td id=\"T_6d66a_row8_col2\" class=\"data row8 col2\" >0.102370</td>\n",
       "      <td id=\"T_6d66a_row8_col3\" class=\"data row8 col3\" >-0.110019</td>\n",
       "      <td id=\"T_6d66a_row8_col4\" class=\"data row8 col4\" >0.002767</td>\n",
       "      <td id=\"T_6d66a_row8_col5\" class=\"data row8 col5\" >-0.052555</td>\n",
       "      <td id=\"T_6d66a_row8_col6\" class=\"data row8 col6\" >-0.083762</td>\n",
       "      <td id=\"T_6d66a_row8_col7\" class=\"data row8 col7\" >0.008588</td>\n",
       "      <td id=\"T_6d66a_row8_col8\" class=\"data row8 col8\" >1.000000</td>\n",
       "    </tr>\n",
       "  </tbody>\n",
       "</table>\n"
      ],
      "text/plain": [
       "<pandas.io.formats.style.Styler at 0x7f355aea37d0>"
      ]
     },
     "execution_count": 15,
     "metadata": {},
     "output_type": "execute_result"
    }
   ],
   "source": [
    "corr = train.corr()\n",
    "corr.style.background_gradient(cmap='coolwarm')"
   ]
  },
  {
   "cell_type": "code",
   "execution_count": 16,
   "id": "ab4eb7c6",
   "metadata": {
    "ExecuteTime": {
     "end_time": "2023-01-22T20:11:22.362602Z",
     "start_time": "2023-01-22T20:11:22.263176Z"
    },
    "execution": {
     "iopub.execute_input": "2023-03-19T16:13:00.246718Z",
     "iopub.status.busy": "2023-03-19T16:13:00.246312Z",
     "iopub.status.idle": "2023-03-19T16:13:00.263455Z",
     "shell.execute_reply": "2023-03-19T16:13:00.261767Z"
    },
    "papermill": {
     "duration": 0.035189,
     "end_time": "2023-03-19T16:13:00.266580",
     "exception": false,
     "start_time": "2023-03-19T16:13:00.231391",
     "status": "completed"
    },
    "tags": []
   },
   "outputs": [
    {
     "name": "stdout",
     "output_type": "stream",
     "text": [
      "<class 'pandas.core.frame.DataFrame'>\n",
      "RangeIndex: 891 entries, 0 to 890\n",
      "Data columns (total 12 columns):\n",
      " #   Column       Non-Null Count  Dtype  \n",
      "---  ------       --------------  -----  \n",
      " 0   PassengerId  891 non-null    int64  \n",
      " 1   Survived     891 non-null    int64  \n",
      " 2   Pclass       891 non-null    int64  \n",
      " 3   Name         891 non-null    object \n",
      " 4   Sex          891 non-null    int64  \n",
      " 5   Age          891 non-null    float64\n",
      " 6   SibSp        891 non-null    int64  \n",
      " 7   Parch        891 non-null    int64  \n",
      " 8   Ticket       891 non-null    object \n",
      " 9   Fare         891 non-null    float64\n",
      " 10  Cabin        204 non-null    object \n",
      " 11  Embarked     891 non-null    float64\n",
      "dtypes: float64(3), int64(6), object(3)\n",
      "memory usage: 83.7+ KB\n"
     ]
    }
   ],
   "source": [
    "train.info()"
   ]
  },
  {
   "cell_type": "markdown",
   "id": "6935188d",
   "metadata": {
    "ExecuteTime": {
     "end_time": "2023-01-15T11:43:58.031019Z",
     "start_time": "2023-01-15T11:43:58.011093Z"
    },
    "papermill": {
     "duration": 0.013682,
     "end_time": "2023-03-19T16:13:00.294268",
     "exception": false,
     "start_time": "2023-03-19T16:13:00.280586",
     "status": "completed"
    },
    "tags": []
   },
   "source": [
    "# Data processing for model\n",
    "# Przetwarzanie danych dla modelu"
   ]
  },
  {
   "cell_type": "code",
   "execution_count": 17,
   "id": "54b4c9b6",
   "metadata": {
    "ExecuteTime": {
     "end_time": "2023-01-22T20:11:22.424309Z",
     "start_time": "2023-01-22T20:11:22.367738Z"
    },
    "code_folding": [
     0
    ],
    "execution": {
     "iopub.execute_input": "2023-03-19T16:13:00.323892Z",
     "iopub.status.busy": "2023-03-19T16:13:00.322821Z",
     "iopub.status.idle": "2023-03-19T16:13:00.331921Z",
     "shell.execute_reply": "2023-03-19T16:13:00.330645Z"
    },
    "papermill": {
     "duration": 0.026859,
     "end_time": "2023-03-19T16:13:00.334496",
     "exception": false,
     "start_time": "2023-03-19T16:13:00.307637",
     "status": "completed"
    },
    "scrolled": true,
    "tags": []
   },
   "outputs": [],
   "source": [
    "def removal_gaps(data) :\n",
    "    \"\"\"\n",
    "    removal of data with large gaps and \n",
    "    data not participating in the prediction\n",
    "    \"\"\"\n",
    "    df = data.copy()\n",
    "    \n",
    "    # likwidujemy zbędne dane które nie potrzebujemy \n",
    "    # we eliminate redundant data that we do not need\n",
    "    df = df.drop([\"Name\",\"PassengerId\",\"Ticket\",\"Cabin\"], axis=1 )\n",
    "\n",
    "    return df\n",
    "train = removal_gaps(train)"
   ]
  },
  {
   "cell_type": "code",
   "execution_count": 18,
   "id": "b8c31620",
   "metadata": {
    "ExecuteTime": {
     "end_time": "2023-01-22T20:11:22.533708Z",
     "start_time": "2023-01-22T20:11:22.428499Z"
    },
    "execution": {
     "iopub.execute_input": "2023-03-19T16:13:00.364498Z",
     "iopub.status.busy": "2023-03-19T16:13:00.363228Z",
     "iopub.status.idle": "2023-03-19T16:13:00.378117Z",
     "shell.execute_reply": "2023-03-19T16:13:00.376797Z"
    },
    "papermill": {
     "duration": 0.033166,
     "end_time": "2023-03-19T16:13:00.381459",
     "exception": false,
     "start_time": "2023-03-19T16:13:00.348293",
     "status": "completed"
    },
    "tags": []
   },
   "outputs": [
    {
     "name": "stdout",
     "output_type": "stream",
     "text": [
      "<class 'pandas.core.frame.DataFrame'>\n",
      "RangeIndex: 891 entries, 0 to 890\n",
      "Data columns (total 8 columns):\n",
      " #   Column    Non-Null Count  Dtype  \n",
      "---  ------    --------------  -----  \n",
      " 0   Survived  891 non-null    int64  \n",
      " 1   Pclass    891 non-null    int64  \n",
      " 2   Sex       891 non-null    int64  \n",
      " 3   Age       891 non-null    float64\n",
      " 4   SibSp     891 non-null    int64  \n",
      " 5   Parch     891 non-null    int64  \n",
      " 6   Fare      891 non-null    float64\n",
      " 7   Embarked  891 non-null    float64\n",
      "dtypes: float64(3), int64(5)\n",
      "memory usage: 55.8 KB\n"
     ]
    }
   ],
   "source": [
    "train.info()"
   ]
  },
  {
   "cell_type": "markdown",
   "id": "c587cfa2",
   "metadata": {
    "papermill": {
     "duration": 0.013655,
     "end_time": "2023-03-19T16:13:00.410051",
     "exception": false,
     "start_time": "2023-03-19T16:13:00.396396",
     "status": "completed"
    },
    "tags": []
   },
   "source": [
    "# model preparation"
   ]
  },
  {
   "cell_type": "code",
   "execution_count": 19,
   "id": "57151c28",
   "metadata": {
    "ExecuteTime": {
     "end_time": "2023-01-22T20:11:22.611161Z",
     "start_time": "2023-01-22T20:11:22.538365Z"
    },
    "execution": {
     "iopub.execute_input": "2023-03-19T16:13:00.439789Z",
     "iopub.status.busy": "2023-03-19T16:13:00.438695Z",
     "iopub.status.idle": "2023-03-19T16:13:00.445366Z",
     "shell.execute_reply": "2023-03-19T16:13:00.444143Z"
    },
    "papermill": {
     "duration": 0.024016,
     "end_time": "2023-03-19T16:13:00.447831",
     "exception": false,
     "start_time": "2023-03-19T16:13:00.423815",
     "status": "completed"
    },
    "tags": []
   },
   "outputs": [],
   "source": [
    "X = train.drop(\"Survived\",axis=1)\n",
    "y = train.Survived"
   ]
  },
  {
   "cell_type": "code",
   "execution_count": 20,
   "id": "dfd69bca",
   "metadata": {
    "ExecuteTime": {
     "end_time": "2023-01-22T20:11:22.704455Z",
     "start_time": "2023-01-22T20:11:22.615137Z"
    },
    "execution": {
     "iopub.execute_input": "2023-03-19T16:13:00.476635Z",
     "iopub.status.busy": "2023-03-19T16:13:00.476246Z",
     "iopub.status.idle": "2023-03-19T16:13:00.483826Z",
     "shell.execute_reply": "2023-03-19T16:13:00.482424Z"
    },
    "papermill": {
     "duration": 0.024843,
     "end_time": "2023-03-19T16:13:00.486170",
     "exception": false,
     "start_time": "2023-03-19T16:13:00.461327",
     "status": "completed"
    },
    "tags": []
   },
   "outputs": [],
   "source": [
    "X_train, X_test, y_train, y_test = train_test_split(X, y, test_size=0.33, random_state=42)"
   ]
  },
  {
   "cell_type": "markdown",
   "id": "2436cbbf",
   "metadata": {
    "papermill": {
     "duration": 0.013433,
     "end_time": "2023-03-19T16:13:00.513278",
     "exception": false,
     "start_time": "2023-03-19T16:13:00.499845",
     "status": "completed"
    },
    "tags": []
   },
   "source": [
    "# Predictive model preparation"
   ]
  },
  {
   "cell_type": "code",
   "execution_count": 21,
   "id": "6018ffcb",
   "metadata": {
    "execution": {
     "iopub.execute_input": "2023-03-19T16:13:00.542688Z",
     "iopub.status.busy": "2023-03-19T16:13:00.542296Z",
     "iopub.status.idle": "2023-03-19T16:13:00.549465Z",
     "shell.execute_reply": "2023-03-19T16:13:00.548070Z"
    },
    "papermill": {
     "duration": 0.024482,
     "end_time": "2023-03-19T16:13:00.551845",
     "exception": false,
     "start_time": "2023-03-19T16:13:00.527363",
     "status": "completed"
    },
    "tags": []
   },
   "outputs": [],
   "source": [
    "rfc = RandomForestClassifier(random_state=0)\n",
    "\n",
    "params = {\n",
    "         \"max_depth\" : list(range(5,15,1)),\n",
    "         \"n_estimators\" : list(range(100,600,100)),\n",
    "         \"criterion\" : [\"gini\",\"entropy\"],\n",
    "         \"bootstrap\" : [True, False ] , \n",
    "    } \n",
    "\n",
    "rscv = RandomizedSearchCV(estimator = rfc, param_distributions = params, cv=5, n_iter=21, n_jobs = -1, random_state = 0  )"
   ]
  },
  {
   "cell_type": "markdown",
   "id": "dbf8855b",
   "metadata": {
    "papermill": {
     "duration": 0.012961,
     "end_time": "2023-03-19T16:13:00.578185",
     "exception": false,
     "start_time": "2023-03-19T16:13:00.565224",
     "status": "completed"
    },
    "tags": []
   },
   "source": [
    "# Fit mofel predict"
   ]
  },
  {
   "cell_type": "code",
   "execution_count": 22,
   "id": "632c7474",
   "metadata": {
    "execution": {
     "iopub.execute_input": "2023-03-19T16:13:00.606700Z",
     "iopub.status.busy": "2023-03-19T16:13:00.606258Z",
     "iopub.status.idle": "2023-03-19T16:13:22.302260Z",
     "shell.execute_reply": "2023-03-19T16:13:22.300984Z"
    },
    "papermill": {
     "duration": 21.713351,
     "end_time": "2023-03-19T16:13:22.305030",
     "exception": false,
     "start_time": "2023-03-19T16:13:00.591679",
     "status": "completed"
    },
    "tags": []
   },
   "outputs": [],
   "source": [
    "search  = rscv.fit( X_train, y_train )\n",
    "best_p = search.best_params_"
   ]
  },
  {
   "cell_type": "code",
   "execution_count": 23,
   "id": "6df6f475",
   "metadata": {
    "execution": {
     "iopub.execute_input": "2023-03-19T16:13:22.335071Z",
     "iopub.status.busy": "2023-03-19T16:13:22.334107Z",
     "iopub.status.idle": "2023-03-19T16:13:23.211104Z",
     "shell.execute_reply": "2023-03-19T16:13:23.209945Z"
    },
    "papermill": {
     "duration": 0.894862,
     "end_time": "2023-03-19T16:13:23.213563",
     "exception": false,
     "start_time": "2023-03-19T16:13:22.318701",
     "status": "completed"
    },
    "tags": []
   },
   "outputs": [
    {
     "data": {
      "text/plain": [
       "RandomForestClassifier(criterion='entropy', max_depth=9, n_estimators=500,\n",
       "                       random_state=0)"
      ]
     },
     "execution_count": 23,
     "metadata": {},
     "output_type": "execute_result"
    }
   ],
   "source": [
    "rfc = RandomForestClassifier(**best_p, random_state=0)\n",
    "rfc.fit(  X_train, y_train )"
   ]
  },
  {
   "cell_type": "markdown",
   "id": "74c20fb3",
   "metadata": {
    "execution": {
     "iopub.execute_input": "2023-03-19T13:33:00.765779Z",
     "iopub.status.busy": "2023-03-19T13:33:00.765281Z",
     "iopub.status.idle": "2023-03-19T13:33:00.772559Z",
     "shell.execute_reply": "2023-03-19T13:33:00.770747Z",
     "shell.execute_reply.started": "2023-03-19T13:33:00.765742Z"
    },
    "papermill": {
     "duration": 0.013195,
     "end_time": "2023-03-19T16:13:23.240179",
     "exception": false,
     "start_time": "2023-03-19T16:13:23.226984",
     "status": "completed"
    },
    "tags": []
   },
   "source": [
    "# Predicr"
   ]
  },
  {
   "cell_type": "code",
   "execution_count": 24,
   "id": "eff96ed0",
   "metadata": {
    "execution": {
     "iopub.execute_input": "2023-03-19T16:13:23.269634Z",
     "iopub.status.busy": "2023-03-19T16:13:23.269188Z",
     "iopub.status.idle": "2023-03-19T16:13:23.459358Z",
     "shell.execute_reply": "2023-03-19T16:13:23.458286Z"
    },
    "papermill": {
     "duration": 0.208143,
     "end_time": "2023-03-19T16:13:23.462054",
     "exception": false,
     "start_time": "2023-03-19T16:13:23.253911",
     "status": "completed"
    },
    "tags": []
   },
   "outputs": [],
   "source": [
    "p_train = rfc.predict(X_train)\n",
    "p_test  = rfc.predict(X_test)"
   ]
  },
  {
   "cell_type": "code",
   "execution_count": 25,
   "id": "4edf6e93",
   "metadata": {
    "execution": {
     "iopub.execute_input": "2023-03-19T16:13:23.490884Z",
     "iopub.status.busy": "2023-03-19T16:13:23.490471Z",
     "iopub.status.idle": "2023-03-19T16:13:23.501083Z",
     "shell.execute_reply": "2023-03-19T16:13:23.499862Z"
    },
    "papermill": {
     "duration": 0.028096,
     "end_time": "2023-03-19T16:13:23.503686",
     "exception": false,
     "start_time": "2023-03-19T16:13:23.475590",
     "status": "completed"
    },
    "tags": []
   },
   "outputs": [
    {
     "name": "stdout",
     "output_type": "stream",
     "text": [
      "0.9178229859988218\n",
      "0.8148284901968024\n"
     ]
    }
   ],
   "source": [
    "from sklearn.metrics import f1_score\n",
    "\n",
    "print( f1_score( p_train, y_train , average='macro'))\n",
    "print( f1_score( p_test, y_test , average='macro'))"
   ]
  },
  {
   "cell_type": "markdown",
   "id": "6e0dc2b4",
   "metadata": {
    "papermill": {
     "duration": 0.013245,
     "end_time": "2023-03-19T16:13:23.530367",
     "exception": false,
     "start_time": "2023-03-19T16:13:23.517122",
     "status": "completed"
    },
    "tags": []
   },
   "source": [
    "# Setting predictions"
   ]
  },
  {
   "cell_type": "code",
   "execution_count": 26,
   "id": "e50ef9a7",
   "metadata": {
    "execution": {
     "iopub.execute_input": "2023-03-19T16:13:23.560363Z",
     "iopub.status.busy": "2023-03-19T16:13:23.559733Z",
     "iopub.status.idle": "2023-03-19T16:13:23.836156Z",
     "shell.execute_reply": "2023-03-19T16:13:23.835048Z"
    },
    "papermill": {
     "duration": 0.294071,
     "end_time": "2023-03-19T16:13:23.838810",
     "exception": false,
     "start_time": "2023-03-19T16:13:23.544739",
     "status": "completed"
    },
    "tags": []
   },
   "outputs": [],
   "source": [
    "pred_p_tr = rfc.predict_proba(X_train)\n",
    "pred_p_ts = rfc.predict_proba(X_test)\n",
    "\n",
    "\n",
    "pct = 0\n",
    "percent = 0.01\n",
    "old_bill = 0\n",
    "for j in range(100):\n",
    "\n",
    "    pred_p = np.where( pred_p_ts[:, 1] > percent  , 1, 0 )\n",
    "    scor = f1_score(pred_p, y_test, average='macro')\n",
    "\n",
    "    if scor > old_bill:\n",
    "        old_bill = scor\n",
    "        pct = percent\n",
    "            \n",
    "    percent += 0.01"
   ]
  },
  {
   "cell_type": "code",
   "execution_count": 27,
   "id": "75450639",
   "metadata": {
    "execution": {
     "iopub.execute_input": "2023-03-19T16:13:23.868129Z",
     "iopub.status.busy": "2023-03-19T16:13:23.867557Z",
     "iopub.status.idle": "2023-03-19T16:13:23.877278Z",
     "shell.execute_reply": "2023-03-19T16:13:23.875589Z"
    },
    "papermill": {
     "duration": 0.028391,
     "end_time": "2023-03-19T16:13:23.880899",
     "exception": false,
     "start_time": "2023-03-19T16:13:23.852508",
     "status": "completed"
    },
    "tags": []
   },
   "outputs": [
    {
     "name": "stdout",
     "output_type": "stream",
     "text": [
      "After promotion\n",
      "0.9178229859988218\n",
      "0.8148284901968024\n",
      "\n",
      "\n"
     ]
    }
   ],
   "source": [
    "pred_prob_train = np.where( pred_p_tr[:, 1] > pct, 1, 0 )\n",
    "pred_prob_test = np.where( pred_p_ts[:, 1] > pct, 1, 0 )\n",
    "\n",
    "print(\"After promotion\")\n",
    "print( f1_score( pred_prob_train, y_train, average='macro'))\n",
    "print( f1_score( pred_prob_test, y_test, average='macro'))\n",
    "print(\"\\n\")"
   ]
  },
  {
   "cell_type": "code",
   "execution_count": 28,
   "id": "4b422458",
   "metadata": {
    "execution": {
     "iopub.execute_input": "2023-03-19T16:13:23.911447Z",
     "iopub.status.busy": "2023-03-19T16:13:23.910395Z",
     "iopub.status.idle": "2023-03-19T16:13:23.915401Z",
     "shell.execute_reply": "2023-03-19T16:13:23.914441Z"
    },
    "papermill": {
     "duration": 0.022272,
     "end_time": "2023-03-19T16:13:23.917645",
     "exception": false,
     "start_time": "2023-03-19T16:13:23.895373",
     "status": "completed"
    },
    "tags": []
   },
   "outputs": [],
   "source": [
    "########################################################################3"
   ]
  },
  {
   "cell_type": "markdown",
   "id": "aa8f23bd",
   "metadata": {
    "papermill": {
     "duration": 0.013121,
     "end_time": "2023-03-19T16:13:23.944276",
     "exception": false,
     "start_time": "2023-03-19T16:13:23.931155",
     "status": "completed"
    },
    "tags": []
   },
   "source": [
    "# Predict "
   ]
  },
  {
   "cell_type": "code",
   "execution_count": 29,
   "id": "08fab0ff",
   "metadata": {
    "ExecuteTime": {
     "end_time": "2023-01-22T20:23:04.099802Z",
     "start_time": "2023-01-22T20:23:04.076012Z"
    },
    "execution": {
     "iopub.execute_input": "2023-03-19T16:13:23.974013Z",
     "iopub.status.busy": "2023-03-19T16:13:23.973585Z",
     "iopub.status.idle": "2023-03-19T16:13:23.985371Z",
     "shell.execute_reply": "2023-03-19T16:13:23.984247Z"
    },
    "papermill": {
     "duration": 0.029609,
     "end_time": "2023-03-19T16:13:23.988059",
     "exception": false,
     "start_time": "2023-03-19T16:13:23.958450",
     "status": "completed"
    },
    "scrolled": true,
    "tags": []
   },
   "outputs": [],
   "source": [
    "test = removal_gaps(test)\n",
    "test = data_processing(test)"
   ]
  },
  {
   "cell_type": "code",
   "execution_count": 30,
   "id": "c0120252",
   "metadata": {
    "execution": {
     "iopub.execute_input": "2023-03-19T16:13:24.017388Z",
     "iopub.status.busy": "2023-03-19T16:13:24.016926Z",
     "iopub.status.idle": "2023-03-19T16:13:24.026873Z",
     "shell.execute_reply": "2023-03-19T16:13:24.025938Z"
    },
    "papermill": {
     "duration": 0.0272,
     "end_time": "2023-03-19T16:13:24.028960",
     "exception": false,
     "start_time": "2023-03-19T16:13:24.001760",
     "status": "completed"
    },
    "tags": []
   },
   "outputs": [
    {
     "data": {
      "text/plain": [
       "Pclass      0\n",
       "Sex         0\n",
       "Age         0\n",
       "SibSp       0\n",
       "Parch       0\n",
       "Fare        1\n",
       "Embarked    0\n",
       "dtype: int64"
      ]
     },
     "execution_count": 30,
     "metadata": {},
     "output_type": "execute_result"
    }
   ],
   "source": [
    "test.isna().sum()"
   ]
  },
  {
   "cell_type": "code",
   "execution_count": 31,
   "id": "92a46b89",
   "metadata": {
    "execution": {
     "iopub.execute_input": "2023-03-19T16:13:24.058417Z",
     "iopub.status.busy": "2023-03-19T16:13:24.057682Z",
     "iopub.status.idle": "2023-03-19T16:13:24.063086Z",
     "shell.execute_reply": "2023-03-19T16:13:24.062345Z"
    },
    "papermill": {
     "duration": 0.022767,
     "end_time": "2023-03-19T16:13:24.065328",
     "exception": false,
     "start_time": "2023-03-19T16:13:24.042561",
     "status": "completed"
    },
    "tags": []
   },
   "outputs": [],
   "source": [
    "values = { \"Fare\": test.Fare.mean() }\n",
    "test = test.fillna(values)"
   ]
  },
  {
   "cell_type": "code",
   "execution_count": 32,
   "id": "68562ac0",
   "metadata": {
    "execution": {
     "iopub.execute_input": "2023-03-19T16:13:24.095349Z",
     "iopub.status.busy": "2023-03-19T16:13:24.094564Z",
     "iopub.status.idle": "2023-03-19T16:13:24.191848Z",
     "shell.execute_reply": "2023-03-19T16:13:24.190669Z"
    },
    "papermill": {
     "duration": 0.115423,
     "end_time": "2023-03-19T16:13:24.194481",
     "exception": false,
     "start_time": "2023-03-19T16:13:24.079058",
     "status": "completed"
    },
    "tags": []
   },
   "outputs": [],
   "source": [
    "pred_proba = rfc.predict_proba(test)\n",
    "predict = np.where( pred_proba[:, 1] > pct, 1, 0 )"
   ]
  },
  {
   "cell_type": "code",
   "execution_count": 33,
   "id": "db768299",
   "metadata": {
    "execution": {
     "iopub.execute_input": "2023-03-19T16:13:24.223988Z",
     "iopub.status.busy": "2023-03-19T16:13:24.223611Z",
     "iopub.status.idle": "2023-03-19T16:13:24.231446Z",
     "shell.execute_reply": "2023-03-19T16:13:24.230074Z"
    },
    "papermill": {
     "duration": 0.025594,
     "end_time": "2023-03-19T16:13:24.233818",
     "exception": false,
     "start_time": "2023-03-19T16:13:24.208224",
     "status": "completed"
    },
    "tags": []
   },
   "outputs": [
    {
     "name": "stdout",
     "output_type": "stream",
     "text": [
      "0.86757400648824\n"
     ]
    }
   ],
   "source": [
    "print( f1_score( predict, gender_submission[\"Survived\"], average='macro'))"
   ]
  },
  {
   "cell_type": "code",
   "execution_count": 34,
   "id": "efa9d4c5",
   "metadata": {
    "ExecuteTime": {
     "end_time": "2023-01-22T20:23:04.606325Z",
     "start_time": "2023-01-22T20:23:04.579470Z"
    },
    "execution": {
     "iopub.execute_input": "2023-03-19T16:13:24.263272Z",
     "iopub.status.busy": "2023-03-19T16:13:24.262552Z",
     "iopub.status.idle": "2023-03-19T16:13:24.526645Z",
     "shell.execute_reply": "2023-03-19T16:13:24.525447Z"
    },
    "papermill": {
     "duration": 0.281723,
     "end_time": "2023-03-19T16:13:24.529212",
     "exception": false,
     "start_time": "2023-03-19T16:13:24.247489",
     "status": "completed"
    },
    "tags": []
   },
   "outputs": [
    {
     "data": {
      "text/plain": [
       "<AxesSubplot:>"
      ]
     },
     "execution_count": 34,
     "metadata": {},
     "output_type": "execute_result"
    },
    {
     "data": {
      "image/png": "[encoded data removed]",
      "text/plain": [
       "<Figure size 432x288 with 2 Axes>"
      ]
     },
     "metadata": {
      "needs_background": "light"
     },
     "output_type": "display_data"
    }
   ],
   "source": [
    "# Confusion Matrix\n",
    "cf_matrix = confusion_matrix(gender_submission[\"Survived\"], predict )\n",
    "\n",
    "\n",
    "group_names = [\"True Neg\",\"False Pos\",\"False Neg\",\"True Pos\"]\n",
    "group_counts = ['{0:0.0f}'.format(value) for value in\n",
    "                cf_matrix.flatten()]\n",
    "group_percentages = ['{0:.2%}'.format(value) for value in\n",
    "                     cf_matrix.flatten()/np.sum(cf_matrix)]\n",
    "labels = [f'{v1}\\n{v2}\\n{v3}' for v1, v2, v3 in\n",
    "          zip(group_names,group_counts,group_percentages)]\n",
    "labels = np.asarray(labels).reshape(2,2)\n",
    "sns.heatmap(cf_matrix, annot=labels, fmt=\"\", cmap='Blues')"
   ]
  },
  {
   "cell_type": "code",
   "execution_count": 35,
   "id": "d439656e",
   "metadata": {
    "ExecuteTime": {
     "end_time": "2023-01-22T20:23:21.683205Z",
     "start_time": "2023-01-22T20:23:21.669214Z"
    },
    "execution": {
     "iopub.execute_input": "2023-03-19T16:13:24.559967Z",
     "iopub.status.busy": "2023-03-19T16:13:24.559520Z",
     "iopub.status.idle": "2023-03-19T16:13:24.565202Z",
     "shell.execute_reply": "2023-03-19T16:13:24.563832Z"
    },
    "papermill": {
     "duration": 0.023576,
     "end_time": "2023-03-19T16:13:24.567456",
     "exception": false,
     "start_time": "2023-03-19T16:13:24.543880",
     "status": "completed"
    },
    "scrolled": true,
    "tags": []
   },
   "outputs": [],
   "source": [
    "gender_submission[\"Survived\"] = predict\n",
    "# gender_submission.to_csv(r\"C:\\Users\\user\\PycharmProjects\\Kaggle\\Titanik\\predict.csv\", index=False)"
   ]
  },
  {
   "cell_type": "code",
   "execution_count": null,
   "id": "1515cd3a",
   "metadata": {
    "papermill": {
     "duration": 0.013738,
     "end_time": "2023-03-19T16:13:24.595346",
     "exception": false,
     "start_time": "2023-03-19T16:13:24.581608",
     "status": "completed"
    },
    "tags": []
   },
   "outputs": [],
   "source": []
  },
  {
   "cell_type": "code",
   "execution_count": null,
   "id": "f41ee915",
   "metadata": {
    "papermill": {
     "duration": 0.013871,
     "end_time": "2023-03-19T16:13:24.623467",
     "exception": false,
     "start_time": "2023-03-19T16:13:24.609596",
     "status": "completed"
    },
    "tags": []
   },
   "outputs": [],
   "source": []
  },
  {
   "cell_type": "code",
   "execution_count": null,
   "id": "8b8688a2",
   "metadata": {
    "papermill": {
     "duration": 0.013637,
     "end_time": "2023-03-19T16:13:24.651185",
     "exception": false,
     "start_time": "2023-03-19T16:13:24.637548",
     "status": "completed"
    },
    "tags": []
   },
   "outputs": [],
   "source": []
  }
 ],
 "metadata": {
  "kernelspec": {
   "display_name": "Python 3 (ipykernel)",
   "language": "python",
   "name": "python3"
  },
  "language_info": {
   "codemirror_mode": {
    "name": "ipython",
    "version": 3
   },
   "file_extension": ".py",
   "mimetype": "text/x-python",
   "name": "python",
   "nbconvert_exporter": "python",
   "pygments_lexer": "ipython3",
   "version": "3.10.4"
  },
  "papermill": {
   "default_parameters": {},
   "duration": 41.456174,
   "end_time": "2023-03-19T16:13:27.287019",
   "environment_variables": {},
   "exception": null,
   "input_path": "__notebook__.ipynb",
   "output_path": "__notebook__.ipynb",
   "parameters": {},
   "start_time": "2023-03-19T16:12:45.830845",
   "version": "2.3.4"
  },
  "varInspector": {
   "cols": {
    "lenName": 16,
    "lenType": 16,
    "lenVar": 40
   },
   "kernels_config": {
    "python": {
     "delete_cmd_postfix": "",
     "delete_cmd_prefix": "del ",
     "library": "var_list.py",
     "varRefreshCmd": "print(var_dic_list())"
    },
    "r": {
     "delete_cmd_postfix": ") ",
     "delete_cmd_prefix": "rm(",
     "library": "var_list.r",
     "varRefreshCmd": "cat(var_dic_list()) "
    }
   },
   "types_to_exclude": [
    "module",
    "function",
    "builtin_function_or_method",
    "instance",
    "_Feature"
   ],
   "window_display": false
  }
 },
 "nbformat": 4,
 "nbformat_minor": 5
}
